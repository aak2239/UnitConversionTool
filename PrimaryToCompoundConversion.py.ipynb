{
 "cells": [
  {
   "cell_type": "code",
   "execution_count": null,
   "metadata": {},
   "outputs": [],
   "source": [
    "import pandas as pd\n",
    "import itertools\n",
    "\n",
    "# Read the CSV file\n",
    "data = pd.read_csv('/Users/abdkahhaleh/Downloads/data.csv')\n",
    "\n",
    "# Extract unique units for each metric\n",
    "area_units = data[data['Metric'] == 'Area']['Unit to Convert From'].unique()\n",
    "energy_units = data[data['Metric'] == 'Energy']['Unit to Convert From'].unique()\n",
    "mass_units = data[data['Metric'] == 'Mass']['Unit to Convert From'].unique()\n",
    "volume_units = data[data['Metric'] == 'Volume']['Unit to Convert From'].unique()\n",
    "\n",
    "# Create a dictionary for conversion rates as strings\n",
    "conversion_dict = {(row['Unit to Convert From'], row['Unit to Convert To']): str(row['Conversion Rate'])\n",
    "                   for _, row in data.iterrows()}\n",
    "\n",
    "# Function to get conversion rate as a string and check if it's not equal to 1\n",
    "def get_conversion_rate_as_string(from_unit, to_unit):\n",
    "    rate_str = conversion_dict.get((from_unit, to_unit), conversion_dict.get((to_unit, from_unit), \"1\"))\n",
    "    return rate_str if rate_str != \"1\" else None\n",
    "\n",
    "# Generate combinations and conversion formulas as strings\n",
    "combinations = []\n",
    "\n",
    "# Process for GHGI, EUI, Carbon Emission Factor, Fuel Energy Content, CO2 Emission Intensity\n",
    "metrics = [\n",
    "    ('GHGI', mass_units, area_units),\n",
    "    ('EUI', energy_units, area_units),\n",
    "    ('Carbon Emission Factor', mass_units, energy_units),\n",
    "    ('Fuel Energy Content', energy_units, volume_units),\n",
    "    ('CO2 Emission Intensity', mass_units, volume_units)\n",
    "]\n",
    "\n",
    "for metric, units1, units2 in metrics:\n",
    "    for from_unit1, from_unit2 in itertools.product(units1, units2):\n",
    "        for to_unit1, to_unit2 in itertools.product(units1, units2):\n",
    "            rate_from1 = get_conversion_rate_as_string(from_unit1, to_unit1)\n",
    "            rate_from2 = get_conversion_rate_as_string(from_unit2, to_unit2)\n",
    "            if rate_from1 and rate_from2:\n",
    "                formula = f'\"={rate_from1}/{rate_from2}\"'\n",
    "                combinations.append([metric, f\"{from_unit1}/{from_unit2}\", f\"{to_unit1}/{to_unit2}\", formula])\n",
    "\n",
    "# Convert to DataFrame\n",
    "combinations_df = pd.DataFrame(combinations, columns=['Metric', 'Unit to Convert From', 'Unit to Convert To', 'Conversion Formula'])\n",
    "\n",
    "# Save to CSV\n",
    "output_file_path = '/Users/abdkahhaleh/Downloads/Generated_Conversions.csv'\n",
    "combinations_df.to_csv(output_file_path, index=False)\n"
   ]
  }
 ],
 "metadata": {
  "language_info": {
   "name": "python"
  }
 },
 "nbformat": 4,
 "nbformat_minor": 2
}
